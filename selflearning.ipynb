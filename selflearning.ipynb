{
  "nbformat": 4,
  "nbformat_minor": 0,
  "metadata": {
    "colab": {
      "provenance": []
    },
    "kernelspec": {
      "name": "python3",
      "display_name": "Python 3"
    },
    "language_info": {
      "name": "python"
    }
  },
  "cells": [
    {
      "cell_type": "code",
      "execution_count": null,
      "metadata": {
        "colab": {
          "base_uri": "https://localhost:8080/"
        },
        "id": "urgxBgRz9Vun",
        "outputId": "712b4347-e5d7-4c28-cbc7-9b1bee56ddec"
      },
      "outputs": [
        {
          "output_type": "stream",
          "name": "stdout",
          "text": [
            "hellow nitish\n"
          ]
        }
      ],
      "source": [
        "#1.def greetings(name):\n",
        "def greetings(name):\n",
        "  return print(\"hellow\",name)\n",
        "\n",
        "greetings(\"nitish\")"
      ]
    },
    {
      "cell_type": "code",
      "source": [
        "#2. write a python program to check if a number is prime\n",
        "\n",
        "def  is_prime (num):\n",
        "    if num <=1:\n",
        "      return False\n",
        "\n",
        "    elif  num>=2:\n",
        "      for i in range(2,int( num**0.5)+1):\n",
        "        if num%i==0:\n",
        "          return False\n",
        "\n",
        "    return True\n",
        "\n",
        "\n",
        "num = int(input(\"enter the number\"))\n",
        "\n",
        "if is_prime(num)==True:\n",
        "  print(\"number is prime\")\n",
        "else:\n",
        "  print(\"number is not prime\")\n"
      ],
      "metadata": {
        "id": "Ws96noMO9eDE",
        "colab": {
          "base_uri": "https://localhost:8080/"
        },
        "outputId": "419a6f78-c0e6-451c-a312-6002f66f3f3b"
      },
      "execution_count": null,
      "outputs": [
        {
          "output_type": "stream",
          "name": "stdout",
          "text": [
            "enter the number64\n",
            "number is not prime\n"
          ]
        }
      ]
    },
    {
      "cell_type": "code",
      "source": [
        "#3. finding the fectorial of a number\n",
        "\n",
        "def fectorial( num):\n",
        "  if num == 0:\n",
        "    '''this this is required bcs whenever we will run this code it will keep on\n",
        "    calling the other fectorials at the time of\n",
        "                   it calls the fectorial of 0 which means number is 1\n",
        "                    '''\n",
        "    return 1\n",
        "  else:\n",
        "   return num*(fectorial(num-1))\n",
        "\n",
        "fectorial(4)\n"
      ],
      "metadata": {
        "colab": {
          "base_uri": "https://localhost:8080/"
        },
        "id": "NDk6RQdxmDuq",
        "outputId": "6bbdd784-33c2-438c-e39d-7dd3105ef3f2"
      },
      "execution_count": null,
      "outputs": [
        {
          "output_type": "execute_result",
          "data": {
            "text/plain": [
              "24"
            ]
          },
          "metadata": {},
          "execution_count": 26
        }
      ]
    },
    {
      "cell_type": "code",
      "source": [
        "# 4. return the maximun number from a list\n",
        "\n",
        "def max_num(a):\n",
        "  max=0\n",
        "  for i in a:\n",
        "    if i >max:\n",
        "      max=i\n",
        "      i+=1\n",
        "\n",
        "  return max\n",
        "max_num([2,18,43,54])\n"
      ],
      "metadata": {
        "colab": {
          "base_uri": "https://localhost:8080/"
        },
        "id": "xhu7QiBvmDsT",
        "outputId": "8973596a-7688-4920-e692-54bb7bd8a06e"
      },
      "execution_count": null,
      "outputs": [
        {
          "output_type": "execute_result",
          "data": {
            "text/plain": [
              "54"
            ]
          },
          "metadata": {},
          "execution_count": 30
        }
      ]
    },
    {
      "cell_type": "code",
      "source": [
        "# 5.CHECKING a string is penindrome or not\n",
        "\n",
        "def check(a):\n",
        "  for i in range(len(a) // 2):\n",
        "    if a[i] != a[len(a) - 1 - i]:\n",
        "      return False\n",
        "  return True\n",
        "\n",
        "a = input(\"enter the string\")\n",
        "if check(a):\n",
        "  print(\"its a penindrome\")\n",
        "else:\n",
        "  print(\"its not a penindrome\")\n",
        "\n",
        "\n"
      ],
      "metadata": {
        "colab": {
          "base_uri": "https://localhost:8080/"
        },
        "id": "RlaWimMsmDo7",
        "outputId": "bed3b6f0-c6fd-434e-b4e9-e8415c682f85"
      },
      "execution_count": null,
      "outputs": [
        {
          "output_type": "stream",
          "name": "stdout",
          "text": [
            "enter the stringkanak\n",
            "its a penindrome\n"
          ]
        }
      ]
    },
    {
      "cell_type": "markdown",
      "source": [
        "                    #########    LAMBDA EXPENSION      #########"
      ],
      "metadata": {
        "id": "x95IHaf0YGr6"
      }
    },
    {
      "cell_type": "code",
      "source": [
        "#1. use the lambda expension for squaring of number\n",
        "\n",
        "sq = lambda x:x**2\n",
        "sq(4)"
      ],
      "metadata": {
        "colab": {
          "base_uri": "https://localhost:8080/"
        },
        "id": "mrM-adztmDfE",
        "outputId": "e89dfef1-fe2e-4c22-f0d3-d274d4bd7eaa"
      },
      "execution_count": null,
      "outputs": [
        {
          "output_type": "execute_result",
          "data": {
            "text/plain": [
              "16"
            ]
          },
          "metadata": {},
          "execution_count": 38
        }
      ]
    },
    {
      "cell_type": "code",
      "source": [
        "\n",
        "#.2 check if a number is evn or not\n",
        "\n",
        "check = lambda x: True if x%2==0 else False\n",
        "\n",
        "x = int(input(\"enter the number to be checked\"))\n",
        "\n",
        "if check(x):\n",
        "  print(f\"{x}is even\")\n",
        "\n"
      ],
      "metadata": {
        "colab": {
          "base_uri": "https://localhost:8080/"
        },
        "id": "_7vFzYwPCIUo",
        "outputId": "688dc17f-3414-4318-b3dd-2ce4e3f5882d"
      },
      "execution_count": null,
      "outputs": [
        {
          "output_type": "stream",
          "name": "stdout",
          "text": [
            "enter the number to be checked234\n",
            "234is even\n"
          ]
        }
      ]
    },
    {
      "cell_type": "code",
      "source": [
        "#3. write a python program to extract the last charecter of a string\n",
        "\n",
        "last = lambda a :a[len(a)-1]\n",
        "\n",
        "last(\"nitish\")"
      ],
      "metadata": {
        "colab": {
          "base_uri": "https://localhost:8080/",
          "height": 35
        },
        "id": "xaf-Vjg7DKzK",
        "outputId": "fc70ea6f-a65d-4620-b068-882e77ca3b6f"
      },
      "execution_count": null,
      "outputs": [
        {
          "output_type": "execute_result",
          "data": {
            "text/plain": [
              "'h'"
            ],
            "application/vnd.google.colaboratory.intrinsic+json": {
              "type": "string"
            }
          },
          "metadata": {},
          "execution_count": 49
        }
      ]
    },
    {
      "cell_type": "code",
      "source": [
        "#4. wite a python program to get multiplication of number\n",
        "\n",
        "multi = lambda x,y:x*y\n",
        "\n",
        "x=int(input(\"enter the first number\"))\n",
        "y = int(input(\"enter the second number\"))\n",
        "print(f\"the product of {x},{y}={multi(x,y)}\")"
      ],
      "metadata": {
        "colab": {
          "base_uri": "https://localhost:8080/"
        },
        "id": "50RO5G_mEBUB",
        "outputId": "a4cb6c55-5ac4-4059-8f77-4e6e71790865"
      },
      "execution_count": null,
      "outputs": [
        {
          "output_type": "stream",
          "name": "stdout",
          "text": [
            "enter the first number3\n",
            "enter the second number4\n",
            "the product of 3,4=12\n"
          ]
        }
      ]
    },
    {
      "cell_type": "code",
      "source": [
        "#5. write a python progrm to return maximum of two numbers using lambda\n",
        "\n",
        "max = lambda x,y:x if x>y else y\n",
        "max(2,4)\n"
      ],
      "metadata": {
        "colab": {
          "base_uri": "https://localhost:8080/"
        },
        "id": "nRKJhbJuFKJG",
        "outputId": "8f3630fb-1ca5-409c-8195-435111b22949"
      },
      "execution_count": null,
      "outputs": [
        {
          "output_type": "execute_result",
          "data": {
            "text/plain": [
              "4"
            ]
          },
          "metadata": {},
          "execution_count": 9
        }
      ]
    },
    {
      "cell_type": "markdown",
      "source": [
        "               ###########       MAP FUNCTION     ##########\n",
        "               "
      ],
      "metadata": {
        "id": "tgakT6ErYV8J"
      }
    },
    {
      "cell_type": "code",
      "source": [
        "# 1. write a python program to square all elements in a list\n",
        "\n",
        "\n",
        "l = [ 2,4,5,6,7]\n",
        "sq = lambda x : x**2\n",
        "list(map(sq, l))\n"
      ],
      "metadata": {
        "colab": {
          "base_uri": "https://localhost:8080/"
        },
        "id": "g88Uq4yIXaBC",
        "outputId": "b542054c-8f3f-4dd3-9339-3450dea42efe"
      },
      "execution_count": null,
      "outputs": [
        {
          "output_type": "execute_result",
          "data": {
            "text/plain": [
              "[4, 16, 25, 36, 49]"
            ]
          },
          "metadata": {},
          "execution_count": 3
        }
      ]
    },
    {
      "cell_type": "code",
      "source": [
        "#2. convering a list of string into uppercase\n",
        "\n",
        "\n",
        "def list1(a):\n",
        "    return a.upper()\n",
        "\n",
        "a = input(\"Enter the list of strings:\").split(',')\n",
        "\n",
        "result = list(map(list1, a))\n",
        "print(result)\n"
      ],
      "metadata": {
        "colab": {
          "base_uri": "https://localhost:8080/"
        },
        "id": "hjyck3CQXZ4q",
        "outputId": "cf094098-0826-429b-e29c-9d8b8b3f9939"
      },
      "execution_count": null,
      "outputs": [
        {
          "output_type": "stream",
          "name": "stdout",
          "text": [
            "Enter the list of strings:nitish,kuush,garima\n",
            "['NITISH', 'KUUSH', 'GARIMA']\n"
          ]
        }
      ]
    },
    {
      "cell_type": "code",
      "source": [
        "# 3. finding the cubes of numbers of a list\n",
        "x=[1,2,3,4,5]\n",
        "cube = lambda x: x**3\n",
        "list(map(cube,x))"
      ],
      "metadata": {
        "colab": {
          "base_uri": "https://localhost:8080/"
        },
        "id": "MzmXJO-KXZwZ",
        "outputId": "ca3ecb6d-c70e-4f3e-e1f5-b6d98bf5965f"
      },
      "execution_count": null,
      "outputs": [
        {
          "output_type": "execute_result",
          "data": {
            "text/plain": [
              "[1, 8, 27, 64, 125]"
            ]
          },
          "metadata": {},
          "execution_count": 9
        }
      ]
    },
    {
      "cell_type": "code",
      "source": [
        "#4. compute the length of each word in a list\n",
        "l = [  'nitish', \"ayush\", \"garima\",\"nitish\"]\n",
        "def length(a):\n",
        "    return  print(len(a))\n",
        "\n",
        "\n",
        "tuple(map(length,l))\n",
        "\n"
      ],
      "metadata": {
        "id": "lu6rQgxqXZip",
        "colab": {
          "base_uri": "https://localhost:8080/"
        },
        "outputId": "6edca9a4-be03-4ffb-8f3e-6ec9e226a226"
      },
      "execution_count": null,
      "outputs": [
        {
          "output_type": "stream",
          "name": "stdout",
          "text": [
            "6\n",
            "5\n",
            "6\n",
            "6\n"
          ]
        },
        {
          "output_type": "execute_result",
          "data": {
            "text/plain": [
              "(None, None, None, None)"
            ]
          },
          "metadata": {},
          "execution_count": 17
        }
      ]
    },
    {
      "cell_type": "code",
      "source": [
        "#5.increasing all elements a list by 10\n",
        "\n",
        "list1=[2,3,4,5,6]\n",
        "\n",
        "inc = lambda x: x+10\n",
        "\n",
        "list(map(inc,list1))"
      ],
      "metadata": {
        "colab": {
          "base_uri": "https://localhost:8080/"
        },
        "id": "XOqdTQw12-uH",
        "outputId": "ac4a88a6-6541-4086-8405-d4d5a9b31a8a"
      },
      "execution_count": null,
      "outputs": [
        {
          "output_type": "execute_result",
          "data": {
            "text/plain": [
              "[12, 13, 14, 15, 16]"
            ]
          },
          "metadata": {},
          "execution_count": 21
        }
      ]
    },
    {
      "cell_type": "markdown",
      "source": [
        "           #######  REDUCTION  FUNCTION #####"
      ],
      "metadata": {
        "id": "xR9tC--e4V9A"
      }
    },
    {
      "cell_type": "code",
      "source": [
        "#1. WRITE A PYTHOn program to sum of alll element in a list\n",
        "\n",
        "import functools as fn\n",
        "\n",
        "sum = lambda x,y:x+y\n",
        "l = [2,3,4,5,6,8]\n",
        "fn.reduce(sum,l)\n"
      ],
      "metadata": {
        "colab": {
          "base_uri": "https://localhost:8080/"
        },
        "id": "6AvkcIo12-oG",
        "outputId": "6d501a8e-5db9-4f17-c009-48e0360d4b66"
      },
      "execution_count": null,
      "outputs": [
        {
          "output_type": "execute_result",
          "data": {
            "text/plain": [
              "28"
            ]
          },
          "metadata": {},
          "execution_count": 25
        }
      ]
    },
    {
      "cell_type": "code",
      "source": [
        "#2. compute the product of all elements in a list\n",
        "import functools as fn\n",
        "l = [2,3,4,5,6,7]\n",
        "\n",
        "product = lambda x,y : x*y\n",
        "fn.reduce(product,l)\n"
      ],
      "metadata": {
        "colab": {
          "base_uri": "https://localhost:8080/"
        },
        "id": "7LASzsDe5xmZ",
        "outputId": "a1d4156a-777f-4199-a816-476475921f6a"
      },
      "execution_count": null,
      "outputs": [
        {
          "output_type": "execute_result",
          "data": {
            "text/plain": [
              "5040"
            ]
          },
          "metadata": {},
          "execution_count": 26
        }
      ]
    },
    {
      "cell_type": "code",
      "source": [
        "#3. write a python program to find the greatest common divisor of a list\n",
        "import functools as fn\n",
        "l = [13,26,39,52]\n",
        "'''\n",
        "hcf = lambda num1,num2 :nth if n2%n1 .......\n",
        "we cannt apply lambda expension for this much of tough code\n",
        "\n",
        "'''\n",
        "\n",
        "def hcf(n1,n2):\n",
        "  while n2 !=0:\n",
        "    nth = n1%n2\n",
        "    n1 = n2\n",
        "    n2=nth\n",
        "\n",
        "  return n1\n",
        "\n",
        "\n",
        "\n",
        "fn.reduce (lambda a,b : hcf(a,b) ,l)\n",
        "\n",
        "\n",
        "\n"
      ],
      "metadata": {
        "colab": {
          "base_uri": "https://localhost:8080/"
        },
        "id": "50jSo5bQ5xin",
        "outputId": "80e83d53-c284-4119-a7c2-916e6aadaa55"
      },
      "execution_count": null,
      "outputs": [
        {
          "output_type": "execute_result",
          "data": {
            "text/plain": [
              "13"
            ]
          },
          "metadata": {},
          "execution_count": 39
        }
      ]
    }
  ]
}